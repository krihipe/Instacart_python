{
 "cells": [
  {
   "cell_type": "markdown",
   "id": "f001bc47",
   "metadata": {},
   "source": [
    "#01. Importing libraries"
   ]
  },
  {
   "cell_type": "code",
   "execution_count": 1,
   "id": "c9d630d8",
   "metadata": {},
   "outputs": [],
   "source": [
    "# Import libraries\n",
    "import pandas as pd\n",
    "import numpy as np\n",
    "import os"
   ]
  },
  {
   "cell_type": "markdown",
   "id": "35556472",
   "metadata": {},
   "source": [
    "#02. Data types"
   ]
  },
  {
   "cell_type": "code",
   "execution_count": 2,
   "id": "de1e0161",
   "metadata": {},
   "outputs": [],
   "source": [
    "x = 2"
   ]
  },
  {
   "cell_type": "code",
   "execution_count": 3,
   "id": "02cdd68d",
   "metadata": {},
   "outputs": [
    {
     "data": {
      "text/plain": [
       "2"
      ]
     },
     "execution_count": 3,
     "metadata": {},
     "output_type": "execute_result"
    }
   ],
   "source": [
    "x"
   ]
  },
  {
   "cell_type": "code",
   "execution_count": 4,
   "id": "7557ed77",
   "metadata": {},
   "outputs": [
    {
     "name": "stdout",
     "output_type": "stream",
     "text": [
      "2\n"
     ]
    }
   ],
   "source": [
    "print(x)"
   ]
  },
  {
   "cell_type": "code",
   "execution_count": 5,
   "id": "a8e46436",
   "metadata": {},
   "outputs": [
    {
     "data": {
      "text/plain": [
       "int"
      ]
     },
     "execution_count": 5,
     "metadata": {},
     "output_type": "execute_result"
    }
   ],
   "source": [
    "type(x)"
   ]
  },
  {
   "cell_type": "code",
   "execution_count": 6,
   "id": "8cf2426d",
   "metadata": {},
   "outputs": [],
   "source": [
    "y = 5.678"
   ]
  },
  {
   "cell_type": "code",
   "execution_count": 7,
   "id": "bc0e4204",
   "metadata": {},
   "outputs": [
    {
     "data": {
      "text/plain": [
       "float"
      ]
     },
     "execution_count": 7,
     "metadata": {},
     "output_type": "execute_result"
    }
   ],
   "source": [
    "type(y)"
   ]
  },
  {
   "cell_type": "code",
   "execution_count": 8,
   "id": "9600fd6e",
   "metadata": {},
   "outputs": [],
   "source": [
    "z = 'Brazil'"
   ]
  },
  {
   "cell_type": "code",
   "execution_count": 9,
   "id": "316ae48b",
   "metadata": {},
   "outputs": [
    {
     "data": {
      "text/plain": [
       "str"
      ]
     },
     "execution_count": 9,
     "metadata": {},
     "output_type": "execute_result"
    }
   ],
   "source": [
    "type(z)"
   ]
  },
  {
   "cell_type": "code",
   "execution_count": 10,
   "id": "45051a70",
   "metadata": {},
   "outputs": [
    {
     "data": {
      "text/plain": [
       "str"
      ]
     },
     "execution_count": 10,
     "metadata": {},
     "output_type": "execute_result"
    }
   ],
   "source": [
    "type('Mania')"
   ]
  },
  {
   "cell_type": "code",
   "execution_count": 11,
   "id": "3f70ca6d",
   "metadata": {},
   "outputs": [
    {
     "data": {
      "text/plain": [
       "bool"
      ]
     },
     "execution_count": 11,
     "metadata": {},
     "output_type": "execute_result"
    }
   ],
   "source": [
    "type(True)"
   ]
  },
  {
   "cell_type": "code",
   "execution_count": 12,
   "id": "da624747",
   "metadata": {},
   "outputs": [
    {
     "ename": "NameError",
     "evalue": "name 'Fasle' is not defined",
     "output_type": "error",
     "traceback": [
      "\u001b[0;31m---------------------------------------------------------------------------\u001b[0m",
      "\u001b[0;31mNameError\u001b[0m                                 Traceback (most recent call last)",
      "Cell \u001b[0;32mIn[12], line 1\u001b[0m\n\u001b[0;32m----> 1\u001b[0m \u001b[38;5;28mtype\u001b[39m(Fasle)\n",
      "\u001b[0;31mNameError\u001b[0m: name 'Fasle' is not defined"
     ]
    }
   ],
   "source": [
    "type(Fasle)"
   ]
  },
  {
   "cell_type": "code",
   "execution_count": 13,
   "id": "cdc77f37",
   "metadata": {},
   "outputs": [
    {
     "data": {
      "text/plain": [
       "bool"
      ]
     },
     "execution_count": 13,
     "metadata": {},
     "output_type": "execute_result"
    }
   ],
   "source": [
    "type(False)"
   ]
  },
  {
   "cell_type": "code",
   "execution_count": 14,
   "id": "5141db44",
   "metadata": {},
   "outputs": [
    {
     "data": {
      "text/plain": [
       "6"
      ]
     },
     "execution_count": 14,
     "metadata": {},
     "output_type": "execute_result"
    }
   ],
   "source": [
    "x + 4"
   ]
  },
  {
   "cell_type": "code",
   "execution_count": 15,
   "id": "70125a0a",
   "metadata": {},
   "outputs": [
    {
     "data": {
      "text/plain": [
       "7.678"
      ]
     },
     "execution_count": 15,
     "metadata": {},
     "output_type": "execute_result"
    }
   ],
   "source": [
    "x + y"
   ]
  },
  {
   "cell_type": "code",
   "execution_count": 16,
   "id": "9cf8bb4b",
   "metadata": {},
   "outputs": [],
   "source": [
    "x = x + 4"
   ]
  },
  {
   "cell_type": "code",
   "execution_count": 17,
   "id": "c725b8f1",
   "metadata": {},
   "outputs": [
    {
     "name": "stdout",
     "output_type": "stream",
     "text": [
      "6\n"
     ]
    }
   ],
   "source": [
    "print(x)"
   ]
  },
  {
   "cell_type": "code",
   "execution_count": 21,
   "id": "0cdb0bda",
   "metadata": {},
   "outputs": [],
   "source": [
    "a = 'Hello, '"
   ]
  },
  {
   "cell_type": "code",
   "execution_count": 19,
   "id": "6081088a",
   "metadata": {},
   "outputs": [],
   "source": [
    "b = 'Marley'"
   ]
  },
  {
   "cell_type": "code",
   "execution_count": 22,
   "id": "4bf55b16",
   "metadata": {},
   "outputs": [
    {
     "data": {
      "text/plain": [
       "'Hello, Marley'"
      ]
     },
     "execution_count": 22,
     "metadata": {},
     "output_type": "execute_result"
    }
   ],
   "source": [
    "a + b"
   ]
  },
  {
   "cell_type": "code",
   "execution_count": 24,
   "id": "d9e723b7",
   "metadata": {},
   "outputs": [],
   "source": [
    "n = 'potato'"
   ]
  },
  {
   "cell_type": "code",
   "execution_count": 25,
   "id": "d833c97f",
   "metadata": {},
   "outputs": [
    {
     "data": {
      "text/plain": [
       "'potatopotatopotatopotatopotatopotatopotatopotatopotatopotatopotatopotato'"
      ]
     },
     "execution_count": 25,
     "metadata": {},
     "output_type": "execute_result"
    }
   ],
   "source": [
    "n * 12"
   ]
  },
  {
   "cell_type": "code",
   "execution_count": 26,
   "id": "4f6ca067",
   "metadata": {},
   "outputs": [
    {
     "data": {
      "text/plain": [
       "False"
      ]
     },
     "execution_count": 26,
     "metadata": {},
     "output_type": "execute_result"
    }
   ],
   "source": [
    "x == y"
   ]
  },
  {
   "cell_type": "code",
   "execution_count": 27,
   "id": "a038b593",
   "metadata": {},
   "outputs": [
    {
     "data": {
      "text/plain": [
       "bool"
      ]
     },
     "execution_count": 27,
     "metadata": {},
     "output_type": "execute_result"
    }
   ],
   "source": [
    "type(x == y)"
   ]
  },
  {
   "cell_type": "code",
   "execution_count": 30,
   "id": "7cca5b54",
   "metadata": {},
   "outputs": [],
   "source": [
    "# Task 4.2 - STEP 7: Code 3 ways to reach 100\n",
    "c = 25\n",
    "d = 50\n",
    "e = 75"
   ]
  },
  {
   "cell_type": "code",
   "execution_count": 31,
   "id": "df95efc3",
   "metadata": {},
   "outputs": [
    {
     "data": {
      "text/plain": [
       "100"
      ]
     },
     "execution_count": 31,
     "metadata": {},
     "output_type": "execute_result"
    }
   ],
   "source": [
    "c + e"
   ]
  },
  {
   "cell_type": "code",
   "execution_count": 32,
   "id": "87ffbcb1",
   "metadata": {},
   "outputs": [
    {
     "data": {
      "text/plain": [
       "100"
      ]
     },
     "execution_count": 32,
     "metadata": {},
     "output_type": "execute_result"
    }
   ],
   "source": [
    "d + e - c"
   ]
  },
  {
   "cell_type": "code",
   "execution_count": 33,
   "id": "6e8ee1b2",
   "metadata": {},
   "outputs": [
    {
     "data": {
      "text/plain": [
       "100"
      ]
     },
     "execution_count": 33,
     "metadata": {},
     "output_type": "execute_result"
    }
   ],
   "source": [
    "e + e - d"
   ]
  },
  {
   "cell_type": "code",
   "execution_count": 34,
   "id": "56eda20d",
   "metadata": {},
   "outputs": [],
   "source": [
    "# STEP 8: Code 2 floating-point variables and divide by each other\n",
    "f = 78.965\n",
    "g = 2.265"
   ]
  },
  {
   "cell_type": "code",
   "execution_count": 35,
   "id": "5902f5ca",
   "metadata": {},
   "outputs": [
    {
     "data": {
      "text/plain": [
       "34.863134657836646"
      ]
     },
     "execution_count": 35,
     "metadata": {},
     "output_type": "execute_result"
    }
   ],
   "source": [
    "f / g"
   ]
  },
  {
   "cell_type": "code",
   "execution_count": 36,
   "id": "fe9b0a78",
   "metadata": {},
   "outputs": [],
   "source": [
    "# STEP 9: Construct a short word made of separate strings\n",
    "h = 'Howdy, '\n",
    "i = 'pardner! '\n",
    "j = 'How '\n",
    "k = 'are '\n",
    "l = 'you?'"
   ]
  },
  {
   "cell_type": "code",
   "execution_count": 39,
   "id": "10373343",
   "metadata": {},
   "outputs": [
    {
     "data": {
      "text/plain": [
       "'Howdy, pardner! '"
      ]
     },
     "execution_count": 39,
     "metadata": {},
     "output_type": "execute_result"
    }
   ],
   "source": [
    "# STEP 10: Construct 2 short sentences made of strings\n",
    "h + i"
   ]
  },
  {
   "cell_type": "code",
   "execution_count": 38,
   "id": "2912b276",
   "metadata": {},
   "outputs": [
    {
     "data": {
      "text/plain": [
       "'How are you?'"
      ]
     },
     "execution_count": 38,
     "metadata": {},
     "output_type": "execute_result"
    }
   ],
   "source": [
    "j + k + l"
   ]
  },
  {
   "cell_type": "code",
   "execution_count": 41,
   "id": "e94f4ce2",
   "metadata": {},
   "outputs": [
    {
     "data": {
      "text/plain": [
       "'Howdy, pardner! Howdy, pardner! Howdy, pardner! Howdy, pardner! Howdy, pardner! Howdy, pardner! Howdy, pardner! Howdy, pardner! Howdy, pardner! Howdy, pardner! Howdy, pardner! Howdy, pardner! Howdy, pardner! Howdy, pardner! Howdy, pardner! Howdy, pardner! Howdy, pardner! Howdy, pardner! Howdy, pardner! Howdy, pardner! Howdy, pardner! Howdy, pardner! Howdy, pardner! Howdy, pardner! Howdy, pardner! Howdy, pardner! Howdy, pardner! Howdy, pardner! Howdy, pardner! Howdy, pardner! Howdy, pardner! Howdy, pardner! Howdy, pardner! Howdy, pardner! Howdy, pardner! Howdy, pardner! Howdy, pardner! Howdy, pardner! Howdy, pardner! Howdy, pardner! Howdy, pardner! Howdy, pardner! Howdy, pardner! Howdy, pardner! Howdy, pardner! Howdy, pardner! Howdy, pardner! Howdy, pardner! Howdy, pardner! Howdy, pardner! Howdy, pardner! Howdy, pardner! Howdy, pardner! Howdy, pardner! Howdy, pardner! Howdy, pardner! Howdy, pardner! Howdy, pardner! Howdy, pardner! Howdy, pardner! Howdy, pardner! Howdy, pardner! Howdy, pardner! Howdy, pardner! Howdy, pardner! Howdy, pardner! Howdy, pardner! Howdy, pardner! Howdy, pardner! Howdy, pardner! Howdy, pardner! Howdy, pardner! Howdy, pardner! Howdy, pardner! Howdy, pardner! Howdy, pardner! Howdy, pardner! Howdy, pardner! Howdy, pardner! Howdy, pardner! Howdy, pardner! Howdy, pardner! Howdy, pardner! Howdy, pardner! Howdy, pardner! Howdy, pardner! Howdy, pardner! Howdy, pardner! Howdy, pardner! Howdy, pardner! Howdy, pardner! Howdy, pardner! Howdy, pardner! Howdy, pardner! Howdy, pardner! Howdy, pardner! Howdy, pardner! Howdy, pardner! Howdy, pardner! Howdy, pardner! '"
      ]
     },
     "execution_count": 41,
     "metadata": {},
     "output_type": "execute_result"
    }
   ],
   "source": [
    "# BONUS: make a string appear 100 times\n",
    "(h + i) * 100"
   ]
  }
 ],
 "metadata": {
  "kernelspec": {
   "display_name": "Python 3 (ipykernel)",
   "language": "python",
   "name": "python3"
  },
  "language_info": {
   "codemirror_mode": {
    "name": "ipython",
    "version": 3
   },
   "file_extension": ".py",
   "mimetype": "text/x-python",
   "name": "python",
   "nbconvert_exporter": "python",
   "pygments_lexer": "ipython3",
   "version": "3.11.4"
  }
 },
 "nbformat": 4,
 "nbformat_minor": 5
}
